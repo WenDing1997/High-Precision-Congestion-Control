{
 "cells": [
  {
   "cell_type": "code",
   "execution_count": 1,
   "metadata": {},
   "outputs": [],
   "source": [
    "import argparse\n",
    "import numpy as np\n",
    "from matplotlib import pyplot"
   ]
  },
  {
   "cell_type": "code",
   "execution_count": 2,
   "metadata": {},
   "outputs": [],
   "source": [
    "bd1 = 40\n",
    "bd2 = 160\n",
    "latency = 200\n",
    "oracles = {}"
   ]
  },
  {
   "cell_type": "code",
   "execution_count": 4,
   "metadata": {},
   "outputs": [],
   "source": [
    "oracle_files = open('experiments/test/fct.txt', 'r').readlines()\n",
    "for i in range(len(oracle_files)-1):\n",
    "    tokens1 = oracle_files[i].split()\n",
    "    tokens2 = oracle_files[i+1].split()\n",
    "    oracles[tokens1[4]]=[int(tokens1[6]),int(tokens2[6])]"
   ]
  },
  {
   "cell_type": "code",
   "execution_count": 7,
   "metadata": {},
   "outputs": [],
   "source": [
    "def ipToNode(ip):\n",
    "    return (int(ip, 16)-int('0b000001', 16))/int('00000100', 16)\n",
    "\n",
    "\n",
    "# i,j are hex ip, size is in bytes\n",
    "def oracle(i, j, size):\n",
    "    if ipToNode(i)/16 == ipToNode(j)/16:\n",
    "        return oracles[size][1]\n",
    "    return oracles[size][0]"
   ]
  },
  {
   "cell_type": "code",
   "execution_count": 19,
   "metadata": {},
   "outputs": [],
   "source": [
    "def slowdown(f,dx):\n",
    "    slowdowns = []\n",
    "    with open(f, 'r') as f:\n",
    "        for line in f.readlines():\n",
    "            tokens = line.split()\n",
    "            slowdowns.append(\n",
    "                int(tokens[6])/oracle(tokens[0], tokens[1], tokens[4]))\n",
    "    slowdowns = np.array(slowdowns)\n",
    "    slowdowns.sort()\n",
    "    s = 0\n",
    "    i = 0\n",
    "    dx = 0.001\n",
    "    X = np.arange(1, 100, dx)\n",
    "    Y = []\n",
    "    for s in X:\n",
    "        while i < len(slowdowns) and slowdowns[i] < s:\n",
    "            i += 1\n",
    "        Y.append(i)\n",
    "    Y = np.array(Y)\n",
    "    Y = Y/len(slowdowns)\n",
    "    return slowdowns,Y"
   ]
  },
  {
   "cell_type": "code",
   "execution_count": 9,
   "metadata": {},
   "outputs": [],
   "source": [
    "experiments = ['hpcc','timely','dcqcn','dctcp']"
   ]
  },
  {
   "cell_type": "code",
   "execution_count": 20,
   "metadata": {},
   "outputs": [],
   "source": [
    "dx = 0.001\n",
    "slowdowns = []\n",
    "cdfs = []\n",
    "for experiment in experiments:\n",
    "    result = slowdown(\"experiments/{}/fct.txt\".format(experiment), dx)\n",
    "    slowdowns.append(result[0])\n",
    "    cdfs.append(result[1])"
   ]
  },
  {
   "cell_type": "code",
   "execution_count": 23,
   "metadata": {},
   "outputs": [
    {
     "name": "stdout",
     "output_type": "stream",
     "text": [
      "hpcc: mean: 2.4609422572744784, median: 1.368179925031237, 99%: 0.5805860805860806\n",
      "timely: mean: 14.279214553825968, median: 3.462912087912088, 99%: 0.5695970695970696\n",
      "dcqcn: mean: 10.77178928527645, median: 3.3681763369791424, 99%: 0.5677655677655677\n",
      "dctcp: mean: 2.6981300303946005, median: 1.9496336996336996, 99%: 0.5677655677655677\n"
     ]
    }
   ],
   "source": [
    "for i in range(len(experiments)):\n",
    "    mean = np.mean(slowdowns[i])\n",
    "    median = np.median(slowdowns[i])\n",
    "    nn = slowdowns[i][int(len(slowdowns[i])*.99)]\n",
    "    print(\"{0}: mean: {1}, median: {2}, 99%: {3}\".format(experiments[i],mean,median,nn))"
   ]
  },
  {
   "cell_type": "code",
   "execution_count": 21,
   "metadata": {},
   "outputs": [
    {
     "data": {
      "image/png": "[encoded data removed]",
      "text/plain": [
       "<Figure size 432x288 with 1 Axes>"
      ]
     },
     "metadata": {
      "needs_background": "light"
     },
     "output_type": "display_data"
    }
   ],
   "source": [
    "X = np.arange(1, 100, dx)\n",
    "for cdf in cdfs:\n",
    "    pyplot.plot(X, cdf)\n",
    "pyplot.xscale('log')\n",
    "pyplot.legend(experiments, loc='lower right')\n",
    "pyplot.xlabel('log slowdown')\n",
    "pyplot.ylabel('cdf')\n",
    "pyplot.show()"
   ]
  }
 ],
 "metadata": {
  "kernelspec": {
   "display_name": "Python 3",
   "language": "python",
   "name": "python3"
  },
  "language_info": {
   "codemirror_mode": {
    "name": "ipython",
    "version": 3
   },
   "file_extension": ".py",
   "mimetype": "text/x-python",
   "name": "python",
   "nbconvert_exporter": "python",
   "pygments_lexer": "ipython3",
   "version": "3.7.0"
  }
 },
 "nbformat": 4,
 "nbformat_minor": 2
}
