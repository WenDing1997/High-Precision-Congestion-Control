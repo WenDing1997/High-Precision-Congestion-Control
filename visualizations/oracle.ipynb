{
 "cells": [
  {
   "cell_type": "code",
   "execution_count": 10,
   "metadata": {},
   "outputs": [],
   "source": [
    "sizes = set()\n",
    "for flow in open('../experiments/facebook/flow.txt', 'r').readlines()[1:]:\n",
    "    sizes.add(int(flow.split()[4]))"
   ]
  },
  {
   "cell_type": "code",
   "execution_count": 12,
   "metadata": {},
   "outputs": [],
   "source": [
    "max_size = max(sizes)\n",
    "with open('../experiments/test/oracle.txt', 'w') as f:\n",
    "    f.write(str(len(sizes)*2)+'\\n')\n",
    "    second = 1\n",
    "    ds = 0.0022\n",
    "    sizes = list(sizes)\n",
    "    sizes.sort()\n",
    "    for size in sizes:\n",
    "        f.write(\"{0} {1} 3 100 {2} {3}\\n\".format(\n",
    "            1, 2, size, second))\n",
    "        second += ds\n",
    "        f.write(\"{0} {1} 3 100 {2} {3}\\n\".format(\n",
    "            1, 100, size, second))\n",
    "        second += ds"
   ]
  }
 ],
 "metadata": {
  "kernelspec": {
   "display_name": "Python 3",
   "language": "python",
   "name": "python3"
  },
  "language_info": {
   "codemirror_mode": {
    "name": "ipython",
    "version": 3
   },
   "file_extension": ".py",
   "mimetype": "text/x-python",
   "name": "python",
   "nbconvert_exporter": "python",
   "pygments_lexer": "ipython3",
   "version": "3.7.0"
  }
 },
 "nbformat": 4,
 "nbformat_minor": 2
}
